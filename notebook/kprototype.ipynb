{
 "cells": [
  {
   "cell_type": "markdown",
   "metadata": {},
   "source": [
    "# K-prototype Cluster Algorithm\n",
    "\n",
    "- https://towardsdatascience.com/the-k-prototype-as-clustering-algorithm-for-mixed-data-type-categorical-and-numerical-fe7c50538ebb "
   ]
  },
  {
   "cell_type": "markdown",
   "metadata": {},
   "source": [
    "---"
   ]
  },
  {
   "cell_type": "markdown",
   "metadata": {},
   "source": [
    "## Import module"
   ]
  },
  {
   "cell_type": "code",
   "execution_count": 1,
   "metadata": {},
   "outputs": [],
   "source": [
    "# Import module for data manipulation\n",
    "import pandas as pd\n",
    "# Import module for linear algebra\n",
    "import numpy as np\n",
    "# Import module for data visualization\n",
    "from plotnine import *\n",
    "import plotnine\n",
    "\n",
    "# Import module for k-protoype cluster\n",
    "from kmodes.kprototypes import KPrototypes"
   ]
  },
  {
   "cell_type": "code",
   "execution_count": 2,
   "metadata": {},
   "outputs": [],
   "source": [
    "# Ignore warnings\n",
    "import warnings\n",
    "warnings.filterwarnings('ignore', category = FutureWarning)"
   ]
  },
  {
   "cell_type": "code",
   "execution_count": 3,
   "metadata": {},
   "outputs": [],
   "source": [
    "# Format scientific notation from Pandas\n",
    "pd.set_option('display.float_format', lambda x: '%.3f' % x)"
   ]
  },
  {
   "cell_type": "markdown",
   "metadata": {},
   "source": [
    "## Import data"
   ]
  },
  {
   "cell_type": "markdown",
   "metadata": {},
   "source": [
    "Data source: http://eforexcel.com/wp/downloads-18-sample-csv-files-data-sets-for-testing-sales/"
   ]
  },
  {
   "cell_type": "code",
   "execution_count": 4,
   "metadata": {},
   "outputs": [],
   "source": [
    "df = pd.read_csv('data/10000 Sales Records.csv')"
   ]
  },
  {
   "cell_type": "code",
   "execution_count": 5,
   "metadata": {},
   "outputs": [
    {
     "name": "stdout",
     "output_type": "stream",
     "text": [
      "Dimension data: 10000 rows and 14 columns\n"
     ]
    },
    {
     "data": {
      "text/html": [
       "<div>\n",
       "<style scoped>\n",
       "    .dataframe tbody tr th:only-of-type {\n",
       "        vertical-align: middle;\n",
       "    }\n",
       "\n",
       "    .dataframe tbody tr th {\n",
       "        vertical-align: top;\n",
       "    }\n",
       "\n",
       "    .dataframe thead th {\n",
       "        text-align: right;\n",
       "    }\n",
       "</style>\n",
       "<table border=\"1\" class=\"dataframe\">\n",
       "  <thead>\n",
       "    <tr style=\"text-align: right;\">\n",
       "      <th></th>\n",
       "      <th>Region</th>\n",
       "      <th>Country</th>\n",
       "      <th>Item Type</th>\n",
       "      <th>Sales Channel</th>\n",
       "      <th>Order Priority</th>\n",
       "      <th>Order Date</th>\n",
       "      <th>Order ID</th>\n",
       "      <th>Ship Date</th>\n",
       "      <th>Units Sold</th>\n",
       "      <th>Unit Price</th>\n",
       "      <th>Unit Cost</th>\n",
       "      <th>Total Revenue</th>\n",
       "      <th>Total Cost</th>\n",
       "      <th>Total Profit</th>\n",
       "    </tr>\n",
       "  </thead>\n",
       "  <tbody>\n",
       "    <tr>\n",
       "      <th>0</th>\n",
       "      <td>Sub-Saharan Africa</td>\n",
       "      <td>Chad</td>\n",
       "      <td>Office Supplies</td>\n",
       "      <td>Online</td>\n",
       "      <td>L</td>\n",
       "      <td>1/27/2011</td>\n",
       "      <td>292494523</td>\n",
       "      <td>2/12/2011</td>\n",
       "      <td>4484</td>\n",
       "      <td>651.210</td>\n",
       "      <td>524.960</td>\n",
       "      <td>2920025.640</td>\n",
       "      <td>2353920.640</td>\n",
       "      <td>566105.000</td>\n",
       "    </tr>\n",
       "    <tr>\n",
       "      <th>1</th>\n",
       "      <td>Europe</td>\n",
       "      <td>Latvia</td>\n",
       "      <td>Beverages</td>\n",
       "      <td>Online</td>\n",
       "      <td>C</td>\n",
       "      <td>12/28/2015</td>\n",
       "      <td>361825549</td>\n",
       "      <td>1/23/2016</td>\n",
       "      <td>1075</td>\n",
       "      <td>47.450</td>\n",
       "      <td>31.790</td>\n",
       "      <td>51008.750</td>\n",
       "      <td>34174.250</td>\n",
       "      <td>16834.500</td>\n",
       "    </tr>\n",
       "    <tr>\n",
       "      <th>2</th>\n",
       "      <td>Middle East and North Africa</td>\n",
       "      <td>Pakistan</td>\n",
       "      <td>Vegetables</td>\n",
       "      <td>Offline</td>\n",
       "      <td>C</td>\n",
       "      <td>1/13/2011</td>\n",
       "      <td>141515767</td>\n",
       "      <td>2/1/2011</td>\n",
       "      <td>6515</td>\n",
       "      <td>154.060</td>\n",
       "      <td>90.930</td>\n",
       "      <td>1003700.900</td>\n",
       "      <td>592408.950</td>\n",
       "      <td>411291.950</td>\n",
       "    </tr>\n",
       "    <tr>\n",
       "      <th>3</th>\n",
       "      <td>Sub-Saharan Africa</td>\n",
       "      <td>Democratic Republic of the Congo</td>\n",
       "      <td>Household</td>\n",
       "      <td>Online</td>\n",
       "      <td>C</td>\n",
       "      <td>9/11/2012</td>\n",
       "      <td>500364005</td>\n",
       "      <td>10/6/2012</td>\n",
       "      <td>7683</td>\n",
       "      <td>668.270</td>\n",
       "      <td>502.540</td>\n",
       "      <td>5134318.410</td>\n",
       "      <td>3861014.820</td>\n",
       "      <td>1273303.590</td>\n",
       "    </tr>\n",
       "    <tr>\n",
       "      <th>4</th>\n",
       "      <td>Europe</td>\n",
       "      <td>Czech Republic</td>\n",
       "      <td>Beverages</td>\n",
       "      <td>Online</td>\n",
       "      <td>C</td>\n",
       "      <td>10/27/2015</td>\n",
       "      <td>127481591</td>\n",
       "      <td>12/5/2015</td>\n",
       "      <td>3491</td>\n",
       "      <td>47.450</td>\n",
       "      <td>31.790</td>\n",
       "      <td>165647.950</td>\n",
       "      <td>110978.890</td>\n",
       "      <td>54669.060</td>\n",
       "    </tr>\n",
       "  </tbody>\n",
       "</table>\n",
       "</div>"
      ],
      "text/plain": [
       "                         Region                           Country  \\\n",
       "0            Sub-Saharan Africa                              Chad   \n",
       "1                        Europe                            Latvia   \n",
       "2  Middle East and North Africa                          Pakistan   \n",
       "3            Sub-Saharan Africa  Democratic Republic of the Congo   \n",
       "4                        Europe                    Czech Republic   \n",
       "\n",
       "         Item Type Sales Channel Order Priority  Order Date   Order ID  \\\n",
       "0  Office Supplies        Online              L   1/27/2011  292494523   \n",
       "1        Beverages        Online              C  12/28/2015  361825549   \n",
       "2       Vegetables       Offline              C   1/13/2011  141515767   \n",
       "3        Household        Online              C   9/11/2012  500364005   \n",
       "4        Beverages        Online              C  10/27/2015  127481591   \n",
       "\n",
       "   Ship Date  Units Sold  Unit Price  Unit Cost  Total Revenue  Total Cost  \\\n",
       "0  2/12/2011        4484     651.210    524.960    2920025.640 2353920.640   \n",
       "1  1/23/2016        1075      47.450     31.790      51008.750   34174.250   \n",
       "2   2/1/2011        6515     154.060     90.930    1003700.900  592408.950   \n",
       "3  10/6/2012        7683     668.270    502.540    5134318.410 3861014.820   \n",
       "4  12/5/2015        3491      47.450     31.790     165647.950  110978.890   \n",
       "\n",
       "   Total Profit  \n",
       "0    566105.000  \n",
       "1     16834.500  \n",
       "2    411291.950  \n",
       "3   1273303.590  \n",
       "4     54669.060  "
      ]
     },
     "execution_count": 5,
     "metadata": {},
     "output_type": "execute_result"
    }
   ],
   "source": [
    "print('Dimension data: {} rows and {} columns'.format(len(df), len(df.columns)))\n",
    "df.head()"
   ]
  },
  {
   "cell_type": "code",
   "execution_count": 6,
   "metadata": {},
   "outputs": [
    {
     "data": {
      "text/plain": [
       "Index(['Region', 'Country', 'Item Type', 'Sales Channel', 'Order Priority',\n",
       "       'Order Date', 'Order ID', 'Ship Date', 'Units Sold', 'Unit Price',\n",
       "       'Unit Cost', 'Total Revenue', 'Total Cost', 'Total Profit'],\n",
       "      dtype='object')"
      ]
     },
     "execution_count": 6,
     "metadata": {},
     "output_type": "execute_result"
    }
   ],
   "source": [
    "df.columns"
   ]
  },
  {
   "cell_type": "code",
   "execution_count": 7,
   "metadata": {},
   "outputs": [
    {
     "name": "stdout",
     "output_type": "stream",
     "text": [
      "<class 'pandas.core.frame.DataFrame'>\n",
      "RangeIndex: 10000 entries, 0 to 9999\n",
      "Data columns (total 14 columns):\n",
      " #   Column          Non-Null Count  Dtype  \n",
      "---  ------          --------------  -----  \n",
      " 0   Region          10000 non-null  object \n",
      " 1   Country         10000 non-null  object \n",
      " 2   Item Type       10000 non-null  object \n",
      " 3   Sales Channel   10000 non-null  object \n",
      " 4   Order Priority  10000 non-null  object \n",
      " 5   Order Date      10000 non-null  object \n",
      " 6   Order ID        10000 non-null  int64  \n",
      " 7   Ship Date       10000 non-null  object \n",
      " 8   Units Sold      10000 non-null  int64  \n",
      " 9   Unit Price      10000 non-null  float64\n",
      " 10  Unit Cost       10000 non-null  float64\n",
      " 11  Total Revenue   10000 non-null  float64\n",
      " 12  Total Cost      10000 non-null  float64\n",
      " 13  Total Profit    10000 non-null  float64\n",
      "dtypes: float64(5), int64(2), object(7)\n",
      "memory usage: 1.1+ MB\n"
     ]
    }
   ],
   "source": [
    "df.info()"
   ]
  },
  {
   "cell_type": "code",
   "execution_count": 8,
   "metadata": {},
   "outputs": [
    {
     "data": {
      "text/plain": [
       "Region               7\n",
       "Country            185\n",
       "Item Type           12\n",
       "Sales Channel        2\n",
       "Order Priority       4\n",
       "Order Date        2691\n",
       "Ship Date         2719\n",
       "dtype: int64"
      ]
     },
     "execution_count": 8,
     "metadata": {},
     "output_type": "execute_result"
    }
   ],
   "source": [
    "df.select_dtypes('object').nunique()"
   ]
  },
  {
   "cell_type": "code",
   "execution_count": 9,
   "metadata": {},
   "outputs": [
    {
     "name": "stdout",
     "output_type": "stream",
     "text": [
      "Europe                               2633\n",
      "Sub-Saharan Africa                   2603\n",
      "Asia                                 1469\n",
      "Middle East and North Africa         1264\n",
      "Central America and the Caribbean    1019\n",
      "Australia and Oceania                 797\n",
      "North America                         215\n",
      "Name: Region, dtype: int64 \n",
      "\n",
      "United Kingdom    72\n",
      "Lithuania         72\n",
      "Moldova           71\n",
      "Croatia           70\n",
      "Seychelles        70\n",
      "                  ..\n",
      "Slovakia          42\n",
      "Greenland         41\n",
      "Tajikistan        40\n",
      "Saint Lucia       39\n",
      "Mali              35\n",
      "Name: Country, Length: 185, dtype: int64 \n",
      "\n",
      "Personal Care      888\n",
      "Household          875\n",
      "Clothes            872\n",
      "Baby Food          842\n",
      "Office Supplies    837\n",
      "Vegetables         836\n",
      "Cosmetics          834\n",
      "Cereal             825\n",
      "Snacks             816\n",
      "Meat               798\n",
      "Fruits             795\n",
      "Beverages          782\n",
      "Name: Item Type, dtype: int64 \n",
      "\n",
      "Online     5061\n",
      "Offline    4939\n",
      "Name: Sales Channel, dtype: int64 \n",
      "\n",
      "C    2555\n",
      "H    2503\n",
      "L    2494\n",
      "M    2448\n",
      "Name: Order Priority, dtype: int64 \n",
      "\n",
      "1/28/2012     13\n",
      "3/3/2012      12\n",
      "8/16/2014     11\n",
      "10/28/2016    11\n",
      "7/15/2012     11\n",
      "              ..\n",
      "5/30/2014      1\n",
      "10/11/2010     1\n",
      "2/26/2016      1\n",
      "7/15/2010      1\n",
      "5/29/2012      1\n",
      "Name: Order Date, Length: 2691, dtype: int64 \n",
      "\n",
      "9/30/2014     12\n",
      "7/23/2015     11\n",
      "2/21/2010     11\n",
      "10/28/2012    11\n",
      "3/24/2016     11\n",
      "              ..\n",
      "4/23/2017      1\n",
      "12/24/2015     1\n",
      "5/10/2011      1\n",
      "5/20/2010      1\n",
      "3/6/2010       1\n",
      "Name: Ship Date, Length: 2719, dtype: int64 \n",
      "\n"
     ]
    }
   ],
   "source": [
    "# Summary statistics of numerical variable\n",
    "for i in df.select_dtypes('object').columns:\n",
    "    print(df[i].value_counts(),'\\n')"
   ]
  },
  {
   "cell_type": "code",
   "execution_count": 10,
   "metadata": {
    "scrolled": true
   },
   "outputs": [
    {
     "data": {
      "text/html": [
       "<div>\n",
       "<style scoped>\n",
       "    .dataframe tbody tr th:only-of-type {\n",
       "        vertical-align: middle;\n",
       "    }\n",
       "\n",
       "    .dataframe tbody tr th {\n",
       "        vertical-align: top;\n",
       "    }\n",
       "\n",
       "    .dataframe thead th {\n",
       "        text-align: right;\n",
       "    }\n",
       "</style>\n",
       "<table border=\"1\" class=\"dataframe\">\n",
       "  <thead>\n",
       "    <tr style=\"text-align: right;\">\n",
       "      <th></th>\n",
       "      <th>Order ID</th>\n",
       "      <th>Units Sold</th>\n",
       "      <th>Unit Price</th>\n",
       "      <th>Unit Cost</th>\n",
       "      <th>Total Revenue</th>\n",
       "      <th>Total Cost</th>\n",
       "      <th>Total Profit</th>\n",
       "    </tr>\n",
       "  </thead>\n",
       "  <tbody>\n",
       "    <tr>\n",
       "      <th>count</th>\n",
       "      <td>10000.000</td>\n",
       "      <td>10000.000</td>\n",
       "      <td>10000.000</td>\n",
       "      <td>10000.000</td>\n",
       "      <td>10000.000</td>\n",
       "      <td>10000.000</td>\n",
       "      <td>10000.000</td>\n",
       "    </tr>\n",
       "    <tr>\n",
       "      <th>mean</th>\n",
       "      <td>549871874.366</td>\n",
       "      <td>5002.856</td>\n",
       "      <td>268.143</td>\n",
       "      <td>188.807</td>\n",
       "      <td>1333355.131</td>\n",
       "      <td>938265.784</td>\n",
       "      <td>395089.347</td>\n",
       "    </tr>\n",
       "    <tr>\n",
       "      <th>std</th>\n",
       "      <td>260783511.133</td>\n",
       "      <td>2873.246</td>\n",
       "      <td>217.944</td>\n",
       "      <td>176.446</td>\n",
       "      <td>1465026.174</td>\n",
       "      <td>1145914.069</td>\n",
       "      <td>377554.961</td>\n",
       "    </tr>\n",
       "    <tr>\n",
       "      <th>min</th>\n",
       "      <td>100089156.000</td>\n",
       "      <td>2.000</td>\n",
       "      <td>9.330</td>\n",
       "      <td>6.920</td>\n",
       "      <td>167.940</td>\n",
       "      <td>124.560</td>\n",
       "      <td>43.380</td>\n",
       "    </tr>\n",
       "    <tr>\n",
       "      <th>25%</th>\n",
       "      <td>321806669.000</td>\n",
       "      <td>2530.750</td>\n",
       "      <td>109.280</td>\n",
       "      <td>56.670</td>\n",
       "      <td>288551.078</td>\n",
       "      <td>164785.530</td>\n",
       "      <td>98329.140</td>\n",
       "    </tr>\n",
       "    <tr>\n",
       "      <th>50%</th>\n",
       "      <td>548566305.000</td>\n",
       "      <td>4962.000</td>\n",
       "      <td>205.700</td>\n",
       "      <td>117.110</td>\n",
       "      <td>800051.210</td>\n",
       "      <td>481605.840</td>\n",
       "      <td>289099.020</td>\n",
       "    </tr>\n",
       "    <tr>\n",
       "      <th>75%</th>\n",
       "      <td>775998103.500</td>\n",
       "      <td>7472.000</td>\n",
       "      <td>437.200</td>\n",
       "      <td>364.690</td>\n",
       "      <td>1819143.390</td>\n",
       "      <td>1183821.520</td>\n",
       "      <td>566422.708</td>\n",
       "    </tr>\n",
       "    <tr>\n",
       "      <th>max</th>\n",
       "      <td>999934232.000</td>\n",
       "      <td>10000.000</td>\n",
       "      <td>668.270</td>\n",
       "      <td>524.960</td>\n",
       "      <td>6680026.920</td>\n",
       "      <td>5241725.600</td>\n",
       "      <td>1738178.390</td>\n",
       "    </tr>\n",
       "  </tbody>\n",
       "</table>\n",
       "</div>"
      ],
      "text/plain": [
       "           Order ID  Units Sold  Unit Price  Unit Cost  Total Revenue  \\\n",
       "count     10000.000   10000.000   10000.000  10000.000      10000.000   \n",
       "mean  549871874.366    5002.856     268.143    188.807    1333355.131   \n",
       "std   260783511.133    2873.246     217.944    176.446    1465026.174   \n",
       "min   100089156.000       2.000       9.330      6.920        167.940   \n",
       "25%   321806669.000    2530.750     109.280     56.670     288551.078   \n",
       "50%   548566305.000    4962.000     205.700    117.110     800051.210   \n",
       "75%   775998103.500    7472.000     437.200    364.690    1819143.390   \n",
       "max   999934232.000   10000.000     668.270    524.960    6680026.920   \n",
       "\n",
       "       Total Cost  Total Profit  \n",
       "count   10000.000     10000.000  \n",
       "mean   938265.784    395089.347  \n",
       "std   1145914.069    377554.961  \n",
       "min       124.560        43.380  \n",
       "25%    164785.530     98329.140  \n",
       "50%    481605.840    289099.020  \n",
       "75%   1183821.520    566422.708  \n",
       "max   5241725.600   1738178.390  "
      ]
     },
     "execution_count": 10,
     "metadata": {},
     "output_type": "execute_result"
    }
   ],
   "source": [
    "df.describe()"
   ]
  },
  {
   "cell_type": "code",
   "execution_count": 11,
   "metadata": {},
   "outputs": [
    {
     "data": {
      "text/plain": [
       "Region            0\n",
       "Country           0\n",
       "Item Type         0\n",
       "Sales Channel     0\n",
       "Order Priority    0\n",
       "Order Date        0\n",
       "Order ID          0\n",
       "Ship Date         0\n",
       "Units Sold        0\n",
       "Unit Price        0\n",
       "Unit Cost         0\n",
       "Total Revenue     0\n",
       "Total Cost        0\n",
       "Total Profit      0\n",
       "dtype: int64"
      ]
     },
     "execution_count": 11,
     "metadata": {},
     "output_type": "execute_result"
    }
   ],
   "source": [
    "# Check missing value\n",
    "df.isna().sum()"
   ]
  },
  {
   "cell_type": "markdown",
   "metadata": {},
   "source": [
    "## Explanatory data analysis"
   ]
  },
  {
   "cell_type": "markdown",
   "metadata": {},
   "source": [
    "#### Distribution of region"
   ]
  },
  {
   "cell_type": "code",
   "execution_count": 12,
   "metadata": {},
   "outputs": [
    {
     "data": {
      "text/html": [
       "<div>\n",
       "<style scoped>\n",
       "    .dataframe tbody tr th:only-of-type {\n",
       "        vertical-align: middle;\n",
       "    }\n",
       "\n",
       "    .dataframe tbody tr th {\n",
       "        vertical-align: top;\n",
       "    }\n",
       "\n",
       "    .dataframe thead th {\n",
       "        text-align: right;\n",
       "    }\n",
       "</style>\n",
       "<table border=\"1\" class=\"dataframe\">\n",
       "  <thead>\n",
       "    <tr style=\"text-align: right;\">\n",
       "      <th></th>\n",
       "      <th>Region</th>\n",
       "      <th>Total</th>\n",
       "      <th>Percentage</th>\n",
       "    </tr>\n",
       "  </thead>\n",
       "  <tbody>\n",
       "    <tr>\n",
       "      <th>0</th>\n",
       "      <td>North America</td>\n",
       "      <td>215</td>\n",
       "      <td>0.021</td>\n",
       "    </tr>\n",
       "    <tr>\n",
       "      <th>1</th>\n",
       "      <td>Australia and Oceania</td>\n",
       "      <td>797</td>\n",
       "      <td>0.080</td>\n",
       "    </tr>\n",
       "    <tr>\n",
       "      <th>2</th>\n",
       "      <td>Central America and the Caribbean</td>\n",
       "      <td>1019</td>\n",
       "      <td>0.102</td>\n",
       "    </tr>\n",
       "    <tr>\n",
       "      <th>3</th>\n",
       "      <td>Middle East and North Africa</td>\n",
       "      <td>1264</td>\n",
       "      <td>0.126</td>\n",
       "    </tr>\n",
       "    <tr>\n",
       "      <th>4</th>\n",
       "      <td>Asia</td>\n",
       "      <td>1469</td>\n",
       "      <td>0.147</td>\n",
       "    </tr>\n",
       "    <tr>\n",
       "      <th>5</th>\n",
       "      <td>Sub-Saharan Africa</td>\n",
       "      <td>2603</td>\n",
       "      <td>0.260</td>\n",
       "    </tr>\n",
       "    <tr>\n",
       "      <th>6</th>\n",
       "      <td>Europe</td>\n",
       "      <td>2633</td>\n",
       "      <td>0.263</td>\n",
       "    </tr>\n",
       "  </tbody>\n",
       "</table>\n",
       "</div>"
      ],
      "text/plain": [
       "                              Region  Total  Percentage\n",
       "0                      North America    215       0.021\n",
       "1              Australia and Oceania    797       0.080\n",
       "2  Central America and the Caribbean   1019       0.102\n",
       "3       Middle East and North Africa   1264       0.126\n",
       "4                               Asia   1469       0.147\n",
       "5                 Sub-Saharan Africa   2603       0.260\n",
       "6                             Europe   2633       0.263"
      ]
     },
     "execution_count": 12,
     "metadata": {},
     "output_type": "execute_result"
    }
   ],
   "source": [
    "df_region = pd.DataFrame(df['Region'].value_counts()).reset_index()\n",
    "df_region['Percentage'] = df_region['Region'] / df['Region'].value_counts().sum()\n",
    "df_region.rename(columns = {'index':'Region', 'Region':'Total'}, inplace = True)\n",
    "df_region = df_region.sort_values('Total', ascending = True).reset_index(drop = True)\n",
    "df_region"
   ]
  },
  {
   "cell_type": "code",
   "execution_count": 13,
   "metadata": {},
   "outputs": [],
   "source": [
    "df_region = df.groupby('Region').agg({\n",
    "    'Region': 'count',\n",
    "    'Units Sold': 'mean',\n",
    "    'Total Revenue': 'mean',\n",
    "    'Total Cost': 'mean',\n",
    "    'Total Profit': 'mean'\n",
    "    }\n",
    ").rename(columns = {'Region': 'Total'}).reset_index().sort_values('Total', ascending = True)"
   ]
  },
  {
   "cell_type": "code",
   "execution_count": 14,
   "metadata": {},
   "outputs": [
    {
     "data": {
      "text/html": [
       "<div>\n",
       "<style scoped>\n",
       "    .dataframe tbody tr th:only-of-type {\n",
       "        vertical-align: middle;\n",
       "    }\n",
       "\n",
       "    .dataframe tbody tr th {\n",
       "        vertical-align: top;\n",
       "    }\n",
       "\n",
       "    .dataframe thead th {\n",
       "        text-align: right;\n",
       "    }\n",
       "</style>\n",
       "<table border=\"1\" class=\"dataframe\">\n",
       "  <thead>\n",
       "    <tr style=\"text-align: right;\">\n",
       "      <th></th>\n",
       "      <th>Region</th>\n",
       "      <th>Total</th>\n",
       "      <th>Units Sold</th>\n",
       "      <th>Total Revenue</th>\n",
       "      <th>Total Cost</th>\n",
       "      <th>Total Profit</th>\n",
       "    </tr>\n",
       "  </thead>\n",
       "  <tbody>\n",
       "    <tr>\n",
       "      <th>5</th>\n",
       "      <td>North America</td>\n",
       "      <td>215</td>\n",
       "      <td>5373.358</td>\n",
       "      <td>1559778.805</td>\n",
       "      <td>1097008.967</td>\n",
       "      <td>462769.838</td>\n",
       "    </tr>\n",
       "    <tr>\n",
       "      <th>1</th>\n",
       "      <td>Australia and Oceania</td>\n",
       "      <td>797</td>\n",
       "      <td>4986.769</td>\n",
       "      <td>1317192.267</td>\n",
       "      <td>910578.451</td>\n",
       "      <td>406613.816</td>\n",
       "    </tr>\n",
       "    <tr>\n",
       "      <th>2</th>\n",
       "      <td>Central America and the Caribbean</td>\n",
       "      <td>1019</td>\n",
       "      <td>5081.063</td>\n",
       "      <td>1369509.041</td>\n",
       "      <td>973672.093</td>\n",
       "      <td>395836.948</td>\n",
       "    </tr>\n",
       "    <tr>\n",
       "      <th>4</th>\n",
       "      <td>Middle East and North Africa</td>\n",
       "      <td>1264</td>\n",
       "      <td>5116.219</td>\n",
       "      <td>1357304.982</td>\n",
       "      <td>953884.180</td>\n",
       "      <td>403420.803</td>\n",
       "    </tr>\n",
       "    <tr>\n",
       "      <th>0</th>\n",
       "      <td>Asia</td>\n",
       "      <td>1469</td>\n",
       "      <td>5015.488</td>\n",
       "      <td>1365082.080</td>\n",
       "      <td>965215.983</td>\n",
       "      <td>399866.097</td>\n",
       "    </tr>\n",
       "    <tr>\n",
       "      <th>6</th>\n",
       "      <td>Sub-Saharan Africa</td>\n",
       "      <td>2603</td>\n",
       "      <td>4967.808</td>\n",
       "      <td>1287190.079</td>\n",
       "      <td>903155.468</td>\n",
       "      <td>384034.611</td>\n",
       "    </tr>\n",
       "    <tr>\n",
       "      <th>3</th>\n",
       "      <td>Europe</td>\n",
       "      <td>2633</td>\n",
       "      <td>4920.385</td>\n",
       "      <td>1322207.396</td>\n",
       "      <td>932158.169</td>\n",
       "      <td>390049.226</td>\n",
       "    </tr>\n",
       "  </tbody>\n",
       "</table>\n",
       "</div>"
      ],
      "text/plain": [
       "                              Region  Total  Units Sold  Total Revenue  \\\n",
       "5                      North America    215    5373.358    1559778.805   \n",
       "1              Australia and Oceania    797    4986.769    1317192.267   \n",
       "2  Central America and the Caribbean   1019    5081.063    1369509.041   \n",
       "4       Middle East and North Africa   1264    5116.219    1357304.982   \n",
       "0                               Asia   1469    5015.488    1365082.080   \n",
       "6                 Sub-Saharan Africa   2603    4967.808    1287190.079   \n",
       "3                             Europe   2633    4920.385    1322207.396   \n",
       "\n",
       "   Total Cost  Total Profit  \n",
       "5 1097008.967    462769.838  \n",
       "1  910578.451    406613.816  \n",
       "2  973672.093    395836.948  \n",
       "4  953884.180    403420.803  \n",
       "0  965215.983    399866.097  \n",
       "6  903155.468    384034.611  \n",
       "3  932158.169    390049.226  "
      ]
     },
     "execution_count": 14,
     "metadata": {},
     "output_type": "execute_result"
    }
   ],
   "source": [
    "df_region"
   ]
  },
  {
   "cell_type": "code",
   "execution_count": 15,
   "metadata": {},
   "outputs": [
    {
     "data": {
      "image/png": "[encoded data removed]",
      "text/plain": [
       "<Figure size 800x480 with 1 Axes>"
      ]
     },
     "metadata": {
      "needs_background": "light"
     },
     "output_type": "display_data"
    },
    {
     "data": {
      "text/plain": [
       "<ggplot: (165534255171)>"
      ]
     },
     "execution_count": 15,
     "metadata": {},
     "output_type": "execute_result"
    }
   ],
   "source": [
    "plotnine.options.figure_size = (8, 4.8)\n",
    "(\n",
    "    ggplot(data = df_region)+\n",
    "    geom_bar(aes(x = 'Region',\n",
    "                 y = 'Total'),\n",
    "             fill = np.where(df_region['Region'] == 'Asia', '#981220', '#80797c'),\n",
    "             stat = 'identity')+\n",
    "    geom_text(aes(x = 'Region',\n",
    "                   y = 'Total',\n",
    "                   label = 'Total'),\n",
    "               size = 10,\n",
    "               nudge_y = 120)+\n",
    "    labs(title = 'Region that has the highest purchases')+\n",
    "    xlab('Region')+\n",
    "    ylab('Frequency')+\n",
    "    scale_x_discrete(limits = df_region['Region'].tolist())+\n",
    "    theme_minimal()+\n",
    "    coord_flip()\n",
    ")"
   ]
  },
  {
   "cell_type": "markdown",
   "metadata": {},
   "source": [
    "#### Distribution of item type"
   ]
  },
  {
   "cell_type": "code",
   "execution_count": 16,
   "metadata": {},
   "outputs": [
    {
     "data": {
      "text/plain": [
       "['North America',\n",
       " 'Australia and Oceania',\n",
       " 'Central America and the Caribbean',\n",
       " 'Middle East and North Africa',\n",
       " 'Asia',\n",
       " 'Sub-Saharan Africa',\n",
       " 'Europe',\n",
       " 'All']"
      ]
     },
     "execution_count": 16,
     "metadata": {},
     "output_type": "execute_result"
    }
   ],
   "source": [
    "# Order the index of cross tabulation\n",
    "order_region = df_region['Region'].to_list()\n",
    "order_region.append('All')\n",
    "order_region"
   ]
  },
  {
   "cell_type": "code",
   "execution_count": 17,
   "metadata": {},
   "outputs": [
    {
     "data": {
      "text/html": [
       "<div>\n",
       "<style scoped>\n",
       "    .dataframe tbody tr th:only-of-type {\n",
       "        vertical-align: middle;\n",
       "    }\n",
       "\n",
       "    .dataframe tbody tr th {\n",
       "        vertical-align: top;\n",
       "    }\n",
       "\n",
       "    .dataframe thead th {\n",
       "        text-align: right;\n",
       "    }\n",
       "</style>\n",
       "<table border=\"1\" class=\"dataframe\">\n",
       "  <thead>\n",
       "    <tr style=\"text-align: right;\">\n",
       "      <th></th>\n",
       "      <th>Region</th>\n",
       "      <th>Baby Food</th>\n",
       "      <th>Beverages</th>\n",
       "      <th>Cereal</th>\n",
       "      <th>Clothes</th>\n",
       "      <th>Cosmetics</th>\n",
       "      <th>Fruits</th>\n",
       "      <th>Household</th>\n",
       "      <th>Meat</th>\n",
       "      <th>Office Supplies</th>\n",
       "      <th>Personal Care</th>\n",
       "      <th>Snacks</th>\n",
       "      <th>Vegetables</th>\n",
       "      <th>All</th>\n",
       "    </tr>\n",
       "  </thead>\n",
       "  <tbody>\n",
       "    <tr>\n",
       "      <th>0</th>\n",
       "      <td>North America</td>\n",
       "      <td>21</td>\n",
       "      <td>20</td>\n",
       "      <td>16</td>\n",
       "      <td>21</td>\n",
       "      <td>20</td>\n",
       "      <td>15</td>\n",
       "      <td>20</td>\n",
       "      <td>17</td>\n",
       "      <td>20</td>\n",
       "      <td>17</td>\n",
       "      <td>16</td>\n",
       "      <td>12</td>\n",
       "      <td>215</td>\n",
       "    </tr>\n",
       "    <tr>\n",
       "      <th>1</th>\n",
       "      <td>Australia and Oceania</td>\n",
       "      <td>65</td>\n",
       "      <td>50</td>\n",
       "      <td>69</td>\n",
       "      <td>77</td>\n",
       "      <td>75</td>\n",
       "      <td>55</td>\n",
       "      <td>78</td>\n",
       "      <td>61</td>\n",
       "      <td>50</td>\n",
       "      <td>76</td>\n",
       "      <td>72</td>\n",
       "      <td>69</td>\n",
       "      <td>797</td>\n",
       "    </tr>\n",
       "    <tr>\n",
       "      <th>2</th>\n",
       "      <td>Central America and the Caribbean</td>\n",
       "      <td>74</td>\n",
       "      <td>92</td>\n",
       "      <td>77</td>\n",
       "      <td>84</td>\n",
       "      <td>77</td>\n",
       "      <td>81</td>\n",
       "      <td>104</td>\n",
       "      <td>75</td>\n",
       "      <td>94</td>\n",
       "      <td>82</td>\n",
       "      <td>89</td>\n",
       "      <td>90</td>\n",
       "      <td>1019</td>\n",
       "    </tr>\n",
       "    <tr>\n",
       "      <th>3</th>\n",
       "      <td>Middle East and North Africa</td>\n",
       "      <td>105</td>\n",
       "      <td>96</td>\n",
       "      <td>104</td>\n",
       "      <td>111</td>\n",
       "      <td>99</td>\n",
       "      <td>104</td>\n",
       "      <td>128</td>\n",
       "      <td>101</td>\n",
       "      <td>103</td>\n",
       "      <td>112</td>\n",
       "      <td>95</td>\n",
       "      <td>106</td>\n",
       "      <td>1264</td>\n",
       "    </tr>\n",
       "    <tr>\n",
       "      <th>4</th>\n",
       "      <td>Asia</td>\n",
       "      <td>132</td>\n",
       "      <td>108</td>\n",
       "      <td>121</td>\n",
       "      <td>116</td>\n",
       "      <td>125</td>\n",
       "      <td>111</td>\n",
       "      <td>116</td>\n",
       "      <td>114</td>\n",
       "      <td>132</td>\n",
       "      <td>137</td>\n",
       "      <td>120</td>\n",
       "      <td>137</td>\n",
       "      <td>1469</td>\n",
       "    </tr>\n",
       "    <tr>\n",
       "      <th>5</th>\n",
       "      <td>Sub-Saharan Africa</td>\n",
       "      <td>235</td>\n",
       "      <td>220</td>\n",
       "      <td>211</td>\n",
       "      <td>229</td>\n",
       "      <td>203</td>\n",
       "      <td>230</td>\n",
       "      <td>218</td>\n",
       "      <td>207</td>\n",
       "      <td>207</td>\n",
       "      <td>223</td>\n",
       "      <td>221</td>\n",
       "      <td>199</td>\n",
       "      <td>2603</td>\n",
       "    </tr>\n",
       "    <tr>\n",
       "      <th>6</th>\n",
       "      <td>Europe</td>\n",
       "      <td>210</td>\n",
       "      <td>196</td>\n",
       "      <td>227</td>\n",
       "      <td>234</td>\n",
       "      <td>235</td>\n",
       "      <td>199</td>\n",
       "      <td>211</td>\n",
       "      <td>223</td>\n",
       "      <td>231</td>\n",
       "      <td>241</td>\n",
       "      <td>203</td>\n",
       "      <td>223</td>\n",
       "      <td>2633</td>\n",
       "    </tr>\n",
       "    <tr>\n",
       "      <th>7</th>\n",
       "      <td>All</td>\n",
       "      <td>842</td>\n",
       "      <td>782</td>\n",
       "      <td>825</td>\n",
       "      <td>872</td>\n",
       "      <td>834</td>\n",
       "      <td>795</td>\n",
       "      <td>875</td>\n",
       "      <td>798</td>\n",
       "      <td>837</td>\n",
       "      <td>888</td>\n",
       "      <td>816</td>\n",
       "      <td>836</td>\n",
       "      <td>10000</td>\n",
       "    </tr>\n",
       "  </tbody>\n",
       "</table>\n",
       "</div>"
      ],
      "text/plain": [
       "                              Region  Baby Food  Beverages  Cereal  Clothes  \\\n",
       "0                      North America         21         20      16       21   \n",
       "1              Australia and Oceania         65         50      69       77   \n",
       "2  Central America and the Caribbean         74         92      77       84   \n",
       "3       Middle East and North Africa        105         96     104      111   \n",
       "4                               Asia        132        108     121      116   \n",
       "5                 Sub-Saharan Africa        235        220     211      229   \n",
       "6                             Europe        210        196     227      234   \n",
       "7                                All        842        782     825      872   \n",
       "\n",
       "   Cosmetics  Fruits  Household  Meat  Office Supplies  Personal Care  Snacks  \\\n",
       "0         20      15         20    17               20             17      16   \n",
       "1         75      55         78    61               50             76      72   \n",
       "2         77      81        104    75               94             82      89   \n",
       "3         99     104        128   101              103            112      95   \n",
       "4        125     111        116   114              132            137     120   \n",
       "5        203     230        218   207              207            223     221   \n",
       "6        235     199        211   223              231            241     203   \n",
       "7        834     795        875   798              837            888     816   \n",
       "\n",
       "   Vegetables    All  \n",
       "0          12    215  \n",
       "1          69    797  \n",
       "2          90   1019  \n",
       "3         106   1264  \n",
       "4         137   1469  \n",
       "5         199   2603  \n",
       "6         223   2633  \n",
       "7         836  10000  "
      ]
     },
     "execution_count": 17,
     "metadata": {},
     "output_type": "execute_result"
    }
   ],
   "source": [
    "df_item = pd.crosstab(df['Region'], df['Item Type'], margins = True).reindex(order_region, axis = 0).reset_index()\n",
    "# Remove index name\n",
    "df_item.columns.name = None\n",
    "df_item"
   ]
  },
  {
   "cell_type": "markdown",
   "metadata": {},
   "source": [
    "## Data pre-processing"
   ]
  },
  {
   "cell_type": "markdown",
   "metadata": {},
   "source": [
    "#### Remove unused columns for the next analysis `Country`, `Order Date`, `Order ID`, and `Ship Date`"
   ]
  },
  {
   "cell_type": "code",
   "execution_count": 18,
   "metadata": {},
   "outputs": [],
   "source": [
    "df.drop(['Country', 'Order Date', 'Order ID', 'Ship Date'], axis = 1, inplace = True)"
   ]
  },
  {
   "cell_type": "code",
   "execution_count": 19,
   "metadata": {},
   "outputs": [
    {
     "name": "stdout",
     "output_type": "stream",
     "text": [
      "Dimension data: 10000 rows and 10 columns\n"
     ]
    },
    {
     "data": {
      "text/html": [
       "<div>\n",
       "<style scoped>\n",
       "    .dataframe tbody tr th:only-of-type {\n",
       "        vertical-align: middle;\n",
       "    }\n",
       "\n",
       "    .dataframe tbody tr th {\n",
       "        vertical-align: top;\n",
       "    }\n",
       "\n",
       "    .dataframe thead th {\n",
       "        text-align: right;\n",
       "    }\n",
       "</style>\n",
       "<table border=\"1\" class=\"dataframe\">\n",
       "  <thead>\n",
       "    <tr style=\"text-align: right;\">\n",
       "      <th></th>\n",
       "      <th>Region</th>\n",
       "      <th>Item Type</th>\n",
       "      <th>Sales Channel</th>\n",
       "      <th>Order Priority</th>\n",
       "      <th>Units Sold</th>\n",
       "      <th>Unit Price</th>\n",
       "      <th>Unit Cost</th>\n",
       "      <th>Total Revenue</th>\n",
       "      <th>Total Cost</th>\n",
       "      <th>Total Profit</th>\n",
       "    </tr>\n",
       "  </thead>\n",
       "  <tbody>\n",
       "    <tr>\n",
       "      <th>0</th>\n",
       "      <td>Sub-Saharan Africa</td>\n",
       "      <td>Office Supplies</td>\n",
       "      <td>Online</td>\n",
       "      <td>L</td>\n",
       "      <td>4484</td>\n",
       "      <td>651.210</td>\n",
       "      <td>524.960</td>\n",
       "      <td>2920025.640</td>\n",
       "      <td>2353920.640</td>\n",
       "      <td>566105.000</td>\n",
       "    </tr>\n",
       "    <tr>\n",
       "      <th>1</th>\n",
       "      <td>Europe</td>\n",
       "      <td>Beverages</td>\n",
       "      <td>Online</td>\n",
       "      <td>C</td>\n",
       "      <td>1075</td>\n",
       "      <td>47.450</td>\n",
       "      <td>31.790</td>\n",
       "      <td>51008.750</td>\n",
       "      <td>34174.250</td>\n",
       "      <td>16834.500</td>\n",
       "    </tr>\n",
       "    <tr>\n",
       "      <th>2</th>\n",
       "      <td>Middle East and North Africa</td>\n",
       "      <td>Vegetables</td>\n",
       "      <td>Offline</td>\n",
       "      <td>C</td>\n",
       "      <td>6515</td>\n",
       "      <td>154.060</td>\n",
       "      <td>90.930</td>\n",
       "      <td>1003700.900</td>\n",
       "      <td>592408.950</td>\n",
       "      <td>411291.950</td>\n",
       "    </tr>\n",
       "    <tr>\n",
       "      <th>3</th>\n",
       "      <td>Sub-Saharan Africa</td>\n",
       "      <td>Household</td>\n",
       "      <td>Online</td>\n",
       "      <td>C</td>\n",
       "      <td>7683</td>\n",
       "      <td>668.270</td>\n",
       "      <td>502.540</td>\n",
       "      <td>5134318.410</td>\n",
       "      <td>3861014.820</td>\n",
       "      <td>1273303.590</td>\n",
       "    </tr>\n",
       "    <tr>\n",
       "      <th>4</th>\n",
       "      <td>Europe</td>\n",
       "      <td>Beverages</td>\n",
       "      <td>Online</td>\n",
       "      <td>C</td>\n",
       "      <td>3491</td>\n",
       "      <td>47.450</td>\n",
       "      <td>31.790</td>\n",
       "      <td>165647.950</td>\n",
       "      <td>110978.890</td>\n",
       "      <td>54669.060</td>\n",
       "    </tr>\n",
       "  </tbody>\n",
       "</table>\n",
       "</div>"
      ],
      "text/plain": [
       "                         Region        Item Type Sales Channel Order Priority  \\\n",
       "0            Sub-Saharan Africa  Office Supplies        Online              L   \n",
       "1                        Europe        Beverages        Online              C   \n",
       "2  Middle East and North Africa       Vegetables       Offline              C   \n",
       "3            Sub-Saharan Africa        Household        Online              C   \n",
       "4                        Europe        Beverages        Online              C   \n",
       "\n",
       "   Units Sold  Unit Price  Unit Cost  Total Revenue  Total Cost  Total Profit  \n",
       "0        4484     651.210    524.960    2920025.640 2353920.640    566105.000  \n",
       "1        1075      47.450     31.790      51008.750   34174.250     16834.500  \n",
       "2        6515     154.060     90.930    1003700.900  592408.950    411291.950  \n",
       "3        7683     668.270    502.540    5134318.410 3861014.820   1273303.590  \n",
       "4        3491      47.450     31.790     165647.950  110978.890     54669.060  "
      ]
     },
     "execution_count": 19,
     "metadata": {},
     "output_type": "execute_result"
    }
   ],
   "source": [
    "print('Dimension data: {} rows and {} columns'.format(len(df), len(df.columns)))\n",
    "df.head()"
   ]
  },
  {
   "cell_type": "markdown",
   "metadata": {},
   "source": [
    "## Cluster analysis"
   ]
  },
  {
   "cell_type": "markdown",
   "metadata": {},
   "source": [
    "Thanks to https://github.com/aryancodify/Clustering"
   ]
  },
  {
   "cell_type": "code",
   "execution_count": 20,
   "metadata": {},
   "outputs": [
    {
     "name": "stdout",
     "output_type": "stream",
     "text": [
      "Categorical columns           : ['Region', 'Item Type', 'Sales Channel', 'Order Priority']\n",
      "Categorical columns position  : [0, 1, 2, 3]\n"
     ]
    }
   ],
   "source": [
    "# Get the position of categorical columns\n",
    "catColumnsPos = [df.columns.get_loc(col) for col in list(df.select_dtypes('object').columns)]\n",
    "print('Categorical columns           : {}'.format(list(df.select_dtypes('object').columns)))\n",
    "print('Categorical columns position  : {}'.format(catColumnsPos))"
   ]
  },
  {
   "cell_type": "code",
   "execution_count": 21,
   "metadata": {},
   "outputs": [],
   "source": [
    "dfMatrix = df.to_numpy()"
   ]
  },
  {
   "cell_type": "code",
   "execution_count": 22,
   "metadata": {},
   "outputs": [
    {
     "data": {
      "text/plain": [
       "array([['Sub-Saharan Africa', 'Office Supplies', 'Online', ...,\n",
       "        2920025.64, 2353920.64, 566105.0],\n",
       "       ['Europe', 'Beverages', 'Online', ..., 51008.75, 34174.25,\n",
       "        16834.5],\n",
       "       ['Middle East and North Africa', 'Vegetables', 'Offline', ...,\n",
       "        1003700.9, 592408.95, 411291.95],\n",
       "       ...,\n",
       "       ['Sub-Saharan Africa', 'Vegetables', 'Offline', ..., 388847.44,\n",
       "        229507.32, 159340.12],\n",
       "       ['Sub-Saharan Africa', 'Meat', 'Online', ..., 3672974.34,\n",
       "        3174991.14, 497983.2],\n",
       "       ['Asia', 'Snacks', 'Offline', ..., 55081.38, 35175.84, 19905.54]],\n",
       "      dtype=object)"
      ]
     },
     "execution_count": 22,
     "metadata": {},
     "output_type": "execute_result"
    }
   ],
   "source": [
    "dfMatrix"
   ]
  },
  {
   "cell_type": "markdown",
   "metadata": {},
   "source": [
    "Error of initialization: https://github.com/nicodv/kmodes/blob/master/README.rst#faq"
   ]
  },
  {
   "cell_type": "code",
   "execution_count": 23,
   "metadata": {
    "scrolled": true
   },
   "outputs": [
    {
     "name": "stdout",
     "output_type": "stream",
     "text": [
      "Cluster initiation: 1\n",
      "Cluster initiation: 2\n",
      "Cluster initiation: 3\n",
      "Cluster initiation: 4\n",
      "Cluster initiation: 5\n"
     ]
    }
   ],
   "source": [
    "# Choosing optimal K\n",
    "cost = []\n",
    "for cluster in range(1, 10):\n",
    "    try:\n",
    "        kprototype = KPrototypes(n_jobs = -1, n_clusters = cluster, init = 'Huang', random_state = 0)\n",
    "        kprototype.fit_predict(dfMatrix, categorical = catColumnsPos)\n",
    "        cost.append(kprototype.cost_)\n",
    "        print('Cluster initiation: {}'.format(cluster))\n",
    "    except:\n",
    "        break"
   ]
  },
  {
   "cell_type": "code",
   "execution_count": 24,
   "metadata": {},
   "outputs": [
    {
     "data": {
      "text/html": [
       "<div>\n",
       "<style scoped>\n",
       "    .dataframe tbody tr th:only-of-type {\n",
       "        vertical-align: middle;\n",
       "    }\n",
       "\n",
       "    .dataframe tbody tr th {\n",
       "        vertical-align: top;\n",
       "    }\n",
       "\n",
       "    .dataframe thead th {\n",
       "        text-align: right;\n",
       "    }\n",
       "</style>\n",
       "<table border=\"1\" class=\"dataframe\">\n",
       "  <thead>\n",
       "    <tr style=\"text-align: right;\">\n",
       "      <th></th>\n",
       "      <th>Cluster</th>\n",
       "      <th>Cost</th>\n",
       "    </tr>\n",
       "  </thead>\n",
       "  <tbody>\n",
       "    <tr>\n",
       "      <th>0</th>\n",
       "      <td>1</td>\n",
       "      <td>36016179764884296.000</td>\n",
       "    </tr>\n",
       "    <tr>\n",
       "      <th>1</th>\n",
       "      <td>2</td>\n",
       "      <td>9627992230178396.000</td>\n",
       "    </tr>\n",
       "    <tr>\n",
       "      <th>2</th>\n",
       "      <td>3</td>\n",
       "      <td>4960713581025175.000</td>\n",
       "    </tr>\n",
       "    <tr>\n",
       "      <th>3</th>\n",
       "      <td>4</td>\n",
       "      <td>2927463064172953.000</td>\n",
       "    </tr>\n",
       "    <tr>\n",
       "      <th>4</th>\n",
       "      <td>5</td>\n",
       "      <td>1975348817799526.000</td>\n",
       "    </tr>\n",
       "  </tbody>\n",
       "</table>\n",
       "</div>"
      ],
      "text/plain": [
       "   Cluster                  Cost\n",
       "0        1 36016179764884296.000\n",
       "1        2  9627992230178396.000\n",
       "2        3  4960713581025175.000\n",
       "3        4  2927463064172953.000\n",
       "4        5  1975348817799526.000"
      ]
     },
     "execution_count": 24,
     "metadata": {},
     "output_type": "execute_result"
    }
   ],
   "source": [
    "# Converting the results into a dataframe and plotting them\n",
    "df_cost = pd.DataFrame({'Cluster':range(1, 6), 'Cost':cost})\n",
    "df_cost.head()"
   ]
  },
  {
   "cell_type": "code",
   "execution_count": 25,
   "metadata": {},
   "outputs": [
    {
     "data": {
      "image/png": "[encoded data removed]",
      "text/plain": [
       "<Figure size 800x480 with 1 Axes>"
      ]
     },
     "metadata": {
      "needs_background": "light"
     },
     "output_type": "display_data"
    },
    {
     "data": {
      "text/plain": [
       "<ggplot: (165534246675)>"
      ]
     },
     "execution_count": 25,
     "metadata": {},
     "output_type": "execute_result"
    }
   ],
   "source": [
    "plotnine.options.figure_size = (8, 4.8)\n",
    "(\n",
    "    ggplot(data = df_cost)+\n",
    "    geom_line(aes(x = 'Cluster',\n",
    "                  y = 'Cost'))+\n",
    "    geom_point(aes(x = 'Cluster',\n",
    "                   y = 'Cost'))+\n",
    "    geom_label(aes(x = 'Cluster',\n",
    "                   y = 'Cost',\n",
    "                   label = 'Cluster'),\n",
    "               size = 10,\n",
    "               nudge_y = 1000) +\n",
    "    labs(title = 'Optimal number of cluster with Elbow Method')+\n",
    "    xlab('Number of Clusters k')+\n",
    "    ylab('Cost')+\n",
    "    theme_minimal()\n",
    ")"
   ]
  },
  {
   "cell_type": "code",
   "execution_count": 26,
   "metadata": {},
   "outputs": [
    {
     "data": {
      "text/plain": [
       "array([2, 1, 1, ..., 1, 0, 1], dtype=uint16)"
      ]
     },
     "execution_count": 26,
     "metadata": {},
     "output_type": "execute_result"
    }
   ],
   "source": [
    "# Fit the cluster\n",
    "kprototype = KPrototypes(n_jobs = -1, n_clusters = 3, init = 'Huang', random_state = 0)\n",
    "kprototype.fit_predict(dfMatrix, categorical = catColumnsPos)"
   ]
  },
  {
   "cell_type": "code",
   "execution_count": 27,
   "metadata": {},
   "outputs": [
    {
     "data": {
      "text/plain": [
       "[array([[7.90436555e+03, 5.93526513e+02, 4.57785496e+02, 4.62276055e+06,\n",
       "         3.55912112e+06, 1.06363942e+06],\n",
       "        [4.04666949e+03, 1.63259107e+02, 1.05796869e+02, 4.67709452e+05,\n",
       "         2.81142955e+05, 1.86566497e+05],\n",
       "        [6.09327542e+03, 3.84264504e+02, 2.75097501e+02, 1.99588812e+06,\n",
       "         1.38053953e+06, 6.15348596e+05]]),\n",
       " array([['Europe', 'Household', 'Offline', 'L'],\n",
       "        ['Sub-Saharan Africa', 'Personal Care', 'Online', 'C'],\n",
       "        ['Europe', 'Cosmetics', 'Online', 'H']], dtype='<U18')]"
      ]
     },
     "execution_count": 27,
     "metadata": {},
     "output_type": "execute_result"
    }
   ],
   "source": [
    "# Cluster centorid\n",
    "kprototype.cluster_centroids_"
   ]
  },
  {
   "cell_type": "code",
   "execution_count": 28,
   "metadata": {},
   "outputs": [
    {
     "data": {
      "text/plain": [
       "7"
      ]
     },
     "execution_count": 28,
     "metadata": {},
     "output_type": "execute_result"
    }
   ],
   "source": [
    "# Check the iteration of the clusters created\n",
    "kprototype.n_iter_"
   ]
  },
  {
   "cell_type": "code",
   "execution_count": 29,
   "metadata": {},
   "outputs": [
    {
     "data": {
      "text/plain": [
       "4960713581025175.0"
      ]
     },
     "execution_count": 29,
     "metadata": {},
     "output_type": "execute_result"
    }
   ],
   "source": [
    "# Check the cost of the clusters created\n",
    "kprototype.cost_"
   ]
  },
  {
   "cell_type": "code",
   "execution_count": 30,
   "metadata": {},
   "outputs": [],
   "source": [
    "# Add the cluster to the dataframe\n",
    "df['cluster_id'] = kprototype.labels_ "
   ]
  },
  {
   "cell_type": "code",
   "execution_count": 31,
   "metadata": {},
   "outputs": [
    {
     "data": {
      "text/html": [
       "<div>\n",
       "<style scoped>\n",
       "    .dataframe tbody tr th:only-of-type {\n",
       "        vertical-align: middle;\n",
       "    }\n",
       "\n",
       "    .dataframe tbody tr th {\n",
       "        vertical-align: top;\n",
       "    }\n",
       "\n",
       "    .dataframe thead th {\n",
       "        text-align: right;\n",
       "    }\n",
       "</style>\n",
       "<table border=\"1\" class=\"dataframe\">\n",
       "  <thead>\n",
       "    <tr style=\"text-align: right;\">\n",
       "      <th></th>\n",
       "      <th>Region</th>\n",
       "      <th>Total</th>\n",
       "      <th>Percentage</th>\n",
       "    </tr>\n",
       "  </thead>\n",
       "  <tbody>\n",
       "    <tr>\n",
       "      <th>0</th>\n",
       "      <td>North America</td>\n",
       "      <td>215</td>\n",
       "      <td>0.021</td>\n",
       "    </tr>\n",
       "    <tr>\n",
       "      <th>1</th>\n",
       "      <td>Australia and Oceania</td>\n",
       "      <td>797</td>\n",
       "      <td>0.080</td>\n",
       "    </tr>\n",
       "    <tr>\n",
       "      <th>2</th>\n",
       "      <td>Central America and the Caribbean</td>\n",
       "      <td>1019</td>\n",
       "      <td>0.102</td>\n",
       "    </tr>\n",
       "    <tr>\n",
       "      <th>3</th>\n",
       "      <td>Middle East and North Africa</td>\n",
       "      <td>1264</td>\n",
       "      <td>0.126</td>\n",
       "    </tr>\n",
       "    <tr>\n",
       "      <th>4</th>\n",
       "      <td>Asia</td>\n",
       "      <td>1469</td>\n",
       "      <td>0.147</td>\n",
       "    </tr>\n",
       "    <tr>\n",
       "      <th>5</th>\n",
       "      <td>Sub-Saharan Africa</td>\n",
       "      <td>2603</td>\n",
       "      <td>0.260</td>\n",
       "    </tr>\n",
       "    <tr>\n",
       "      <th>6</th>\n",
       "      <td>Europe</td>\n",
       "      <td>2633</td>\n",
       "      <td>0.263</td>\n",
       "    </tr>\n",
       "  </tbody>\n",
       "</table>\n",
       "</div>"
      ],
      "text/plain": [
       "                              Region  Total  Percentage\n",
       "0                      North America    215       0.021\n",
       "1              Australia and Oceania    797       0.080\n",
       "2  Central America and the Caribbean   1019       0.102\n",
       "3       Middle East and North Africa   1264       0.126\n",
       "4                               Asia   1469       0.147\n",
       "5                 Sub-Saharan Africa   2603       0.260\n",
       "6                             Europe   2633       0.263"
      ]
     },
     "execution_count": 31,
     "metadata": {},
     "output_type": "execute_result"
    }
   ],
   "source": [
    "df_region = pd.DataFrame(df['Region'].value_counts()).reset_index()\n",
    "df_region['Percentage'] = df_region['Region'] / df['Region'].value_counts().sum()\n",
    "df_region.rename(columns = {'index':'Region', 'Region':'Total'}, inplace = True)\n",
    "df_region = df_region.sort_values('Total', ascending = True).reset_index(drop = True)\n",
    "df_region"
   ]
  }
 ],
 "metadata": {
  "kernelspec": {
   "display_name": "Python [conda env:autoencoderenv]",
   "language": "python",
   "name": "conda-env-autoencoderenv-py"
  },
  "language_info": {
   "codemirror_mode": {
    "name": "ipython",
    "version": 3
   },
   "file_extension": ".py",
   "mimetype": "text/x-python",
   "name": "python",
   "nbconvert_exporter": "python",
   "pygments_lexer": "ipython3",
   "version": "3.8.11"
  }
 },
 "nbformat": 4,
 "nbformat_minor": 4
}
