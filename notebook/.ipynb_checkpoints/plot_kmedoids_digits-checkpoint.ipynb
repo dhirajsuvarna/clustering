{
  "cells": [
    {
      "cell_type": "code",
      "execution_count": null,
      "metadata": {
        "collapsed": false
      },
      "outputs": [],
      "source": [
        "%matplotlib inline"
      ]
    },
    {
      "cell_type": "markdown",
      "metadata": {},
      "source": [
        "\n# A demo of K-Medoids clustering on the handwritten digits data\nIn this example we compare different pairwise distance\nmetrics for K-Medoids.\n"
      ]
    },
    {
      "cell_type": "code",
      "execution_count": null,
      "metadata": {
        "collapsed": false
      },
      "outputs": [],
      "source": [
        "import numpy as np\nimport matplotlib.pyplot as plt\n\nfrom sklearn.cluster import KMeans\nfrom sklearn_extra.cluster import KMedoids\nfrom sklearn.datasets import load_digits\nfrom sklearn.decomposition import PCA\nfrom sklearn.preprocessing import scale\n\nprint(__doc__)\n\n# Authors: Timo Erkkil\u00e4 <timo.erkkila@gmail.com>\n#          Antti Lehmussola <antti.lehmussola@gmail.com>\n#          Kornel Kie\u0142czewski <kornel.mail@gmail.com>\n# License: BSD 3 clause\n\nnp.random.seed(42)\n\ndigits = load_digits()\ndata = scale(digits.data)\nn_digits = len(np.unique(digits.target))\n\nreduced_data = PCA(n_components=2).fit_transform(data)\n\n# Step size of the mesh. Decrease to increase the quality of the VQ.\nh = 0.02  # point in the mesh [x_min, m_max]x[y_min, y_max].\n\n# Plot the decision boundary. For that, we will assign a color to each\nx_min, x_max = reduced_data[:, 0].min() - 1, reduced_data[:, 0].max() + 1\ny_min, y_max = reduced_data[:, 1].min() - 1, reduced_data[:, 1].max() + 1\nxx, yy = np.meshgrid(np.arange(x_min, x_max, h), np.arange(y_min, y_max, h))\n\nplt.figure()\nplt.clf()\n\nplt.suptitle(\n    \"Comparing multiple K-Medoids metrics to K-Means and each other\",\n    fontsize=14,\n)\n\n\nselected_models = [\n    (\n        KMedoids(metric=\"manhattan\", n_clusters=n_digits),\n        \"KMedoids (manhattan)\",\n    ),\n    (\n        KMedoids(metric=\"euclidean\", n_clusters=n_digits),\n        \"KMedoids (euclidean)\",\n    ),\n    (KMedoids(metric=\"cosine\", n_clusters=n_digits), \"KMedoids (cosine)\"),\n    (KMeans(n_clusters=n_digits), \"KMeans\"),\n]\n\nplot_rows = int(np.ceil(len(selected_models) / 2.0))\nplot_cols = 2\n\nfor i, (model, description) in enumerate(selected_models):\n\n    # Obtain labels for each point in mesh. Use last trained model.\n    model.fit(reduced_data)\n    Z = model.predict(np.c_[xx.ravel(), yy.ravel()])\n\n    # Put the result into a color plot\n    Z = Z.reshape(xx.shape)\n    plt.subplot(plot_cols, plot_rows, i + 1)\n    plt.imshow(\n        Z,\n        interpolation=\"nearest\",\n        extent=(xx.min(), xx.max(), yy.min(), yy.max()),\n        cmap=plt.cm.Paired,\n        aspect=\"auto\",\n        origin=\"lower\",\n    )\n\n    plt.plot(\n        reduced_data[:, 0], reduced_data[:, 1], \"k.\", markersize=2, alpha=0.3\n    )\n    # Plot the centroids as a white X\n    centroids = model.cluster_centers_\n    plt.scatter(\n        centroids[:, 0],\n        centroids[:, 1],\n        marker=\"x\",\n        s=169,\n        linewidths=3,\n        color=\"w\",\n        zorder=10,\n    )\n    plt.title(description)\n    plt.xlim(x_min, x_max)\n    plt.ylim(y_min, y_max)\n    plt.xticks(())\n    plt.yticks(())\n\nplt.show()"
      ]
    }
  ],
  "metadata": {
    "kernelspec": {
      "display_name": "Python 3",
      "language": "python",
      "name": "python3"
    },
    "language_info": {
      "codemirror_mode": {
        "name": "ipython",
        "version": 3
      },
      "file_extension": ".py",
      "mimetype": "text/x-python",
      "name": "python",
      "nbconvert_exporter": "python",
      "pygments_lexer": "ipython3",
      "version": "3.7.9"
    }
  },
  "nbformat": 4,
  "nbformat_minor": 0
}